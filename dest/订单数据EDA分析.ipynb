{
 "cells": [
  {
   "cell_type": "markdown",
   "metadata": {},
   "source": [
    "# 订单数据EDA分析报告\n",
    "## 数据概览"
   ]
  },
  {
   "cell_type": "code",
   "metadata": {},
   "source": [
    "import pandas as pd\n",
    "import matplotlib.pyplot as plt\n",
    "import seaborn as sns\n",
    "\n",
    "# 设置中文显示\n",
    "plt.rcParams['font.sans-serif'] = ['SimHei']\n",
    "plt.rcParams['axes.unicode_minus'] = False\n",
    "\n",
    "# 读取数据\n",
    "file_path = '/Users/circle/Desktop/heywhale/agents.nosync/notebook_agent/data/tmall_order_report.csv'\n",
    "data = pd.read_csv(file_path)\n",
    "\n",
    "# 显示数据前5行\n",
    "print(data.head())\n",
    "\n",
    "# 数据基本信息\n",
    "print(\"\\n数据基本信息:\")\n",
    "print(data.info())\n",
    "\n",
    "# 缺失值统计\n",
    "print(\"\\n缺失值统计:\")\n",
    "print(data.isnull().sum())"
   ]
  },
  {
   "cell_type": "markdown",
   "metadata": {},
   "source": [
    "## 单变量分析"
   ]
  },
  {
   "cell_type": "code",
   "metadata": {},
   "source": [
    "# 数值型变量描述性统计\n",
    "print(\"\\n数值型变量描述性统计:\")\n",
    "print(data.describe())\n",
    "\n",
    "# 分类变量统计\n",
    "print(\"\\n分类变量统计:\")\n",
    "for column in data.select_dtypes(include=['object']).columns:\n",
    "    print(f\"{column}:\")\n",
    "    print(data[column].value_counts())\n",
    "    print()"
   ]
  },
  {
   "cell_type": "markdown",
   "metadata": {},
   "source": [
    "## 时间趋势分析"
   ]
  },
  {
   "cell_type": "code",
   "metadata": {},
   "source": [
    "# 假设有订单时间字段\n",
    "if 'order_time' in data.columns:\n",
    "    data['order_time'] = pd.to_datetime(data['order_time'])\n",
    "    data['order_date'] = data['order_time'].dt.date\n",
    "    data['order_month'] = data['order_time'].dt.to_period('M')\n",
    "    \n",
    "    # 按日订单量趋势\n",
    "    daily_orders = data.groupby('order_date').size()\n",
    "    plt.figure(figsize=(12, 6))\n",
    "    daily_orders.plot(title='每日订单量趋势')\n",
    "    plt.xlabel('日期')\n",
    "    plt.ylabel('订单量')\n",
    "    plt.show()\n",
    "    \n",
    "    # 按月订单量趋势\n",
    "    monthly_orders = data.groupby('order_month').size()\n",
    "    plt.figure(figsize=(12, 6))\n",
    "    monthly_orders.plot(kind='bar', title='每月订单量趋势')\n",
    "    plt.xlabel('月份')\n",
    "    plt.ylabel('订单量')\n",
    "    plt.show()"
   ]
  },
  {
   "cell_type": "markdown",
   "metadata": {},
   "source": [
    "## 用户行为分析"
   ]
  },
  {
   "cell_type": "code",
   "metadata": {},
   "source": [
    "# 假设有用户ID字段\n",
    "if 'user_id' in data.columns:\n",
    "    # 用户购买频次\n",
    "    user_frequency = data['user_id'].value_counts()\n",
    "    plt.figure(figsize=(12, 6))\n",
    "    sns.histplot(user_frequency, bins=30, kde=True)\n",
    "    plt.title('用户购买频次分布')\n",
    "    plt.xlabel('购买频次')\n",
    "    plt.ylabel('用户数量')\n",
    "    plt.show()\n",
    "    \n",
    "    # 用户客单价\n",
    "    if 'order_amount' in data.columns:\n",
    "        user_avg_spend = data.groupby('user_id')['order_amount'].mean()\n",
    "        plt.figure(figsize=(12, 6))\n",
    "        sns.histplot(user_avg_spend, bins=30, kde=True)\n",
    "        plt.title('用户客单价分布')\n",
    "        plt.xlabel('客单价')\n",
    "        plt.ylabel('用户数量')\n",
    "        plt.show()"
   ]
  },
  {
   "cell_type": "markdown",
   "metadata": {},
   "source": [
    "## 相关性分析"
   ]
  },
  {
   "cell_type": "code",
   "metadata": {},
   "source": [
    "# 数值型变量相关性热力图\n",
    "numeric_data = data.select_dtypes(include=['int64', 'float64'])\n",
    "if len(numeric_data.columns) > 1:\n",
    "    plt.figure(figsize=(10, 8))\n",
    "    sns.heatmap(numeric_data.corr(), annot=True, cmap='coolwarm')\n",
    "    plt.title('数值型变量相关性热力图')\n",
    "    plt.show()"
   ]
  }
 ],
 "metadata": {
  "kernelspec": {
   "display_name": "Python 3",
   "language": "python",
   "name": "python3"
  },
  "language_info": {
   "codemirror_mode": {
    "name": "ipython",
    "version": 3
   },
   "file_extension": ".py",
   "mimetype": "text/x-python",
   "name": "python",
   "nbconvert_exporter": "python",
   "pygments_lexer": "ipython3",
   "version": "3.8.5"
  }
 },
 "nbformat": 4,
 "nbformat_minor": 4
}