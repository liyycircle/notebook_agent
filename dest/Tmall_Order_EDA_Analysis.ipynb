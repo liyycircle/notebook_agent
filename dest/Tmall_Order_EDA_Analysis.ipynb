{
 "cells": [
  {
   "cell_type": "markdown",
   "metadata": {},
   "source": [
    "# Tmall Order Report EDA Analysis\n",
    "This notebook performs an exploratory data analysis (EDA) on the Tmall order report dataset."
   ]
  },
  {
   "cell_type": "code",
   "execution_count": 1,
   "metadata": {},
   "outputs": [
    {
     "name": "stdout",
     "output_type": "stream",
     "text": [
      "   订单编号    总金额  买家实际支付金额   收货地址                订单创建时间              订单付款时间   \\\n",
      "0     1  178.8       0.0      上海  2020-02-21 00:00:00                  NaN   \n",
      "1     2   21.0      21.0  内蒙古自治区  2020-02-20 23:59:54  2020-02-21 00:00:02   \n",
      "2     3   37.0       0.0     安徽省  2020-02-20 23:59:35                  NaN   \n",
      "3     4  157.0     157.0     湖南省  2020-02-20 23:58:34  2020-02-20 23:58:44   \n",
      "4     5   64.8       0.0     江苏省  2020-02-20 23:57:04  2020-02-20 23:57:11   \n",
      "\n",
      "   退款金额  \n",
      "0   0.0  \n",
      "1   0.0  \n",
      "2   0.0  \n",
      "3   0.0  \n",
      "4  64.8  \n",
      "Data shape: (28010, 7)\n",
      "Column names: ['订单编号', '总金额', '买家实际支付金额', '收货地址 ', '订单创建时间', '订单付款时间 ', '退款金额']\n"
     ]
    }
   ],
   "source": [
    "# Step 1: Data Loading\n",
    "import pandas as pd\n",
    "import os\n",
    "\n",
    "file_path = 'tmall_order_report.csv'\n",
    "df = pd.read_csv(os.path.join('../data', file_path))\n",
    "\n",
    "print(df.head())\n",
    "print(\"Data shape:\", df.shape)\n",
    "print(\"Column names:\", df.columns.tolist())"
   ]
  },
  {
   "cell_type": "code",
   "execution_count": 2,
   "metadata": {},
   "outputs": [
    {
     "name": "stdout",
     "output_type": "stream",
     "text": [
      "Missing values: 订单编号           0\n",
      "总金额            0\n",
      "买家实际支付金额       0\n",
      "收货地址           0\n",
      "订单创建时间         0\n",
      "订单付款时间      3923\n",
      "退款金额           0\n",
      "dtype: int64\n",
      "Duplicate rows: 0\n"
     ]
    }
   ],
   "source": [
    "# Step 2: Data Cleaning\n",
    "# Check for missing values\n",
    "print(\"Missing values:\", df.isnull().sum())\n",
    "\n",
    "# Check for duplicates\n",
    "print(\"Duplicate rows:\", df.duplicated().sum())\n",
    "\n",
    "# Check for anomalies (e.g., negative order amounts)\n",
    "if 'order_amount' in df.columns:\n",
    "    print(\"Anomalies in order amount:\", df[df['order_amount'] <= 0].shape[0])"
   ]
  },
  {
   "cell_type": "code",
   "execution_count": 4,
   "metadata": {},
   "outputs": [
    {
     "name": "stdout",
     "output_type": "stream",
     "text": [
      "               订单编号            总金额      买家实际支付金额          退款金额\n",
      "count  28010.000000   28010.000000  28010.000000  28010.000000\n",
      "mean   14005.500000     106.953253     67.921712     20.433271\n",
      "std     8085.934856    1136.587094    151.493434     71.501963\n",
      "min        1.000000       1.000000      0.000000      0.000000\n",
      "25%     7003.250000      38.000000      0.000000      0.000000\n",
      "50%    14005.500000      75.000000     45.000000      0.000000\n",
      "75%    21007.750000     119.000000    101.000000      0.000000\n",
      "max    28010.000000  188320.000000  16065.000000   3800.000000\n"
     ]
    },
    {
     "name": "stderr",
     "output_type": "stream",
     "text": [
      "/Users/circle/Desktop/heywhale/agents.nosync/notebook_agent/.conda/lib/python3.11/site-packages/seaborn/utils.py:61: UserWarning: Glyph 35746 (\\N{CJK UNIFIED IDEOGRAPH-8BA2}) missing from font(s) DejaVu Sans.\n",
      "  fig.canvas.draw()\n",
      "/Users/circle/Desktop/heywhale/agents.nosync/notebook_agent/.conda/lib/python3.11/site-packages/seaborn/utils.py:61: UserWarning: Glyph 21333 (\\N{CJK UNIFIED IDEOGRAPH-5355}) missing from font(s) DejaVu Sans.\n",
      "  fig.canvas.draw()\n",
      "/Users/circle/Desktop/heywhale/agents.nosync/notebook_agent/.conda/lib/python3.11/site-packages/seaborn/utils.py:61: UserWarning: Glyph 32534 (\\N{CJK UNIFIED IDEOGRAPH-7F16}) missing from font(s) DejaVu Sans.\n",
      "  fig.canvas.draw()\n",
      "/Users/circle/Desktop/heywhale/agents.nosync/notebook_agent/.conda/lib/python3.11/site-packages/seaborn/utils.py:61: UserWarning: Glyph 21495 (\\N{CJK UNIFIED IDEOGRAPH-53F7}) missing from font(s) DejaVu Sans.\n",
      "  fig.canvas.draw()\n",
      "/Users/circle/Desktop/heywhale/agents.nosync/notebook_agent/.conda/lib/python3.11/site-packages/seaborn/utils.py:61: UserWarning: Glyph 24635 (\\N{CJK UNIFIED IDEOGRAPH-603B}) missing from font(s) DejaVu Sans.\n",
      "  fig.canvas.draw()\n",
      "/Users/circle/Desktop/heywhale/agents.nosync/notebook_agent/.conda/lib/python3.11/site-packages/seaborn/utils.py:61: UserWarning: Glyph 37329 (\\N{CJK UNIFIED IDEOGRAPH-91D1}) missing from font(s) DejaVu Sans.\n",
      "  fig.canvas.draw()\n",
      "/Users/circle/Desktop/heywhale/agents.nosync/notebook_agent/.conda/lib/python3.11/site-packages/seaborn/utils.py:61: UserWarning: Glyph 39069 (\\N{CJK UNIFIED IDEOGRAPH-989D}) missing from font(s) DejaVu Sans.\n",
      "  fig.canvas.draw()\n",
      "/Users/circle/Desktop/heywhale/agents.nosync/notebook_agent/.conda/lib/python3.11/site-packages/seaborn/utils.py:61: UserWarning: Glyph 20080 (\\N{CJK UNIFIED IDEOGRAPH-4E70}) missing from font(s) DejaVu Sans.\n",
      "  fig.canvas.draw()\n",
      "/Users/circle/Desktop/heywhale/agents.nosync/notebook_agent/.conda/lib/python3.11/site-packages/seaborn/utils.py:61: UserWarning: Glyph 23478 (\\N{CJK UNIFIED IDEOGRAPH-5BB6}) missing from font(s) DejaVu Sans.\n",
      "  fig.canvas.draw()\n",
      "/Users/circle/Desktop/heywhale/agents.nosync/notebook_agent/.conda/lib/python3.11/site-packages/seaborn/utils.py:61: UserWarning: Glyph 23454 (\\N{CJK UNIFIED IDEOGRAPH-5B9E}) missing from font(s) DejaVu Sans.\n",
      "  fig.canvas.draw()\n",
      "/Users/circle/Desktop/heywhale/agents.nosync/notebook_agent/.conda/lib/python3.11/site-packages/seaborn/utils.py:61: UserWarning: Glyph 38469 (\\N{CJK UNIFIED IDEOGRAPH-9645}) missing from font(s) DejaVu Sans.\n",
      "  fig.canvas.draw()\n",
      "/Users/circle/Desktop/heywhale/agents.nosync/notebook_agent/.conda/lib/python3.11/site-packages/seaborn/utils.py:61: UserWarning: Glyph 25903 (\\N{CJK UNIFIED IDEOGRAPH-652F}) missing from font(s) DejaVu Sans.\n",
      "  fig.canvas.draw()\n",
      "/Users/circle/Desktop/heywhale/agents.nosync/notebook_agent/.conda/lib/python3.11/site-packages/seaborn/utils.py:61: UserWarning: Glyph 20184 (\\N{CJK UNIFIED IDEOGRAPH-4ED8}) missing from font(s) DejaVu Sans.\n",
      "  fig.canvas.draw()\n",
      "/Users/circle/Desktop/heywhale/agents.nosync/notebook_agent/.conda/lib/python3.11/site-packages/seaborn/utils.py:61: UserWarning: Glyph 36864 (\\N{CJK UNIFIED IDEOGRAPH-9000}) missing from font(s) DejaVu Sans.\n",
      "  fig.canvas.draw()\n",
      "/Users/circle/Desktop/heywhale/agents.nosync/notebook_agent/.conda/lib/python3.11/site-packages/seaborn/utils.py:61: UserWarning: Glyph 27454 (\\N{CJK UNIFIED IDEOGRAPH-6B3E}) missing from font(s) DejaVu Sans.\n",
      "  fig.canvas.draw()\n",
      "/Users/circle/Desktop/heywhale/agents.nosync/notebook_agent/.conda/lib/python3.11/site-packages/IPython/core/pylabtools.py:170: UserWarning: Glyph 35746 (\\N{CJK UNIFIED IDEOGRAPH-8BA2}) missing from font(s) DejaVu Sans.\n",
      "  fig.canvas.print_figure(bytes_io, **kw)\n",
      "/Users/circle/Desktop/heywhale/agents.nosync/notebook_agent/.conda/lib/python3.11/site-packages/IPython/core/pylabtools.py:170: UserWarning: Glyph 21333 (\\N{CJK UNIFIED IDEOGRAPH-5355}) missing from font(s) DejaVu Sans.\n",
      "  fig.canvas.print_figure(bytes_io, **kw)\n",
      "/Users/circle/Desktop/heywhale/agents.nosync/notebook_agent/.conda/lib/python3.11/site-packages/IPython/core/pylabtools.py:170: UserWarning: Glyph 32534 (\\N{CJK UNIFIED IDEOGRAPH-7F16}) missing from font(s) DejaVu Sans.\n",
      "  fig.canvas.print_figure(bytes_io, **kw)\n",
      "/Users/circle/Desktop/heywhale/agents.nosync/notebook_agent/.conda/lib/python3.11/site-packages/IPython/core/pylabtools.py:170: UserWarning: Glyph 21495 (\\N{CJK UNIFIED IDEOGRAPH-53F7}) missing from font(s) DejaVu Sans.\n",
      "  fig.canvas.print_figure(bytes_io, **kw)\n",
      "/Users/circle/Desktop/heywhale/agents.nosync/notebook_agent/.conda/lib/python3.11/site-packages/IPython/core/pylabtools.py:170: UserWarning: Glyph 24635 (\\N{CJK UNIFIED IDEOGRAPH-603B}) missing from font(s) DejaVu Sans.\n",
      "  fig.canvas.print_figure(bytes_io, **kw)\n",
      "/Users/circle/Desktop/heywhale/agents.nosync/notebook_agent/.conda/lib/python3.11/site-packages/IPython/core/pylabtools.py:170: UserWarning: Glyph 37329 (\\N{CJK UNIFIED IDEOGRAPH-91D1}) missing from font(s) DejaVu Sans.\n",
      "  fig.canvas.print_figure(bytes_io, **kw)\n",
      "/Users/circle/Desktop/heywhale/agents.nosync/notebook_agent/.conda/lib/python3.11/site-packages/IPython/core/pylabtools.py:170: UserWarning: Glyph 39069 (\\N{CJK UNIFIED IDEOGRAPH-989D}) missing from font(s) DejaVu Sans.\n",
      "  fig.canvas.print_figure(bytes_io, **kw)\n",
      "/Users/circle/Desktop/heywhale/agents.nosync/notebook_agent/.conda/lib/python3.11/site-packages/IPython/core/pylabtools.py:170: UserWarning: Glyph 20080 (\\N{CJK UNIFIED IDEOGRAPH-4E70}) missing from font(s) DejaVu Sans.\n",
      "  fig.canvas.print_figure(bytes_io, **kw)\n",
      "/Users/circle/Desktop/heywhale/agents.nosync/notebook_agent/.conda/lib/python3.11/site-packages/IPython/core/pylabtools.py:170: UserWarning: Glyph 23478 (\\N{CJK UNIFIED IDEOGRAPH-5BB6}) missing from font(s) DejaVu Sans.\n",
      "  fig.canvas.print_figure(bytes_io, **kw)\n",
      "/Users/circle/Desktop/heywhale/agents.nosync/notebook_agent/.conda/lib/python3.11/site-packages/IPython/core/pylabtools.py:170: UserWarning: Glyph 23454 (\\N{CJK UNIFIED IDEOGRAPH-5B9E}) missing from font(s) DejaVu Sans.\n",
      "  fig.canvas.print_figure(bytes_io, **kw)\n",
      "/Users/circle/Desktop/heywhale/agents.nosync/notebook_agent/.conda/lib/python3.11/site-packages/IPython/core/pylabtools.py:170: UserWarning: Glyph 38469 (\\N{CJK UNIFIED IDEOGRAPH-9645}) missing from font(s) DejaVu Sans.\n",
      "  fig.canvas.print_figure(bytes_io, **kw)\n",
      "/Users/circle/Desktop/heywhale/agents.nosync/notebook_agent/.conda/lib/python3.11/site-packages/IPython/core/pylabtools.py:170: UserWarning: Glyph 25903 (\\N{CJK UNIFIED IDEOGRAPH-652F}) missing from font(s) DejaVu Sans.\n",
      "  fig.canvas.print_figure(bytes_io, **kw)\n",
      "/Users/circle/Desktop/heywhale/agents.nosync/notebook_agent/.conda/lib/python3.11/site-packages/IPython/core/pylabtools.py:170: UserWarning: Glyph 20184 (\\N{CJK UNIFIED IDEOGRAPH-4ED8}) missing from font(s) DejaVu Sans.\n",
      "  fig.canvas.print_figure(bytes_io, **kw)\n",
      "/Users/circle/Desktop/heywhale/agents.nosync/notebook_agent/.conda/lib/python3.11/site-packages/IPython/core/pylabtools.py:170: UserWarning: Glyph 36864 (\\N{CJK UNIFIED IDEOGRAPH-9000}) missing from font(s) DejaVu Sans.\n",
      "  fig.canvas.print_figure(bytes_io, **kw)\n",
      "/Users/circle/Desktop/heywhale/agents.nosync/notebook_agent/.conda/lib/python3.11/site-packages/IPython/core/pylabtools.py:170: UserWarning: Glyph 27454 (\\N{CJK UNIFIED IDEOGRAPH-6B3E}) missing from font(s) DejaVu Sans.\n",
      "  fig.canvas.print_figure(bytes_io, **kw)\n"
     ]
    },
    {
     "data": {
      "image/png": "[encoded data removed]",
      "text/plain": [
       "<Figure size 1000x800 with 2 Axes>"
      ]
     },
     "metadata": {},
     "output_type": "display_data"
    }
   ],
   "source": [
    "# Step 3: Exploratory Analysis and Visualization\n",
    "import matplotlib.pyplot as plt\n",
    "import seaborn as sns\n",
    "\n",
    "# Descriptive Statistics\n",
    "print(df.describe())\n",
    "\n",
    "# Time Analysis (if 'order_date' column exists)\n",
    "if 'order_date' in df.columns:\n",
    "    df['order_date'] = pd.to_datetime(df['order_date'])\n",
    "    df['order_month'] = df['order_date'].dt.to_period('M')\n",
    "    monthly_orders = df.groupby('order_month').size()\n",
    "    plt.figure(figsize=(10, 5))\n",
    "    monthly_orders.plot(kind='line', marker='o')\n",
    "    plt.title('Monthly Order Trends')\n",
    "    plt.xlabel('Month')\n",
    "    plt.ylabel('Number of Orders')\n",
    "    plt.grid()\n",
    "    plt.show()\n",
    "\n",
    "# Distribution of Order Amounts\n",
    "if 'order_amount' in df.columns:\n",
    "    plt.figure(figsize=(10, 5))\n",
    "    sns.histplot(df['order_amount'], kde=True)\n",
    "    plt.title('Distribution of Order Amounts')\n",
    "    plt.xlabel('Order Amount')\n",
    "    plt.ylabel('Frequency')\n",
    "    plt.show()\n",
    "\n",
    "# Boxplot of Order Amounts by Category (if 'category' column exists)\n",
    "if 'category' in df.columns:\n",
    "    plt.figure(figsize=(12, 6))\n",
    "    sns.boxplot(data=df, x='category', y='order_amount')\n",
    "    plt.title('Order Amount Distribution by Category')\n",
    "    plt.xticks(rotation=45)\n",
    "    plt.show()\n",
    "\n",
    "# Correlation Analysis (numeric columns only)\n",
    "numeric_df = df.select_dtypes(include=['float64', 'int64'])\n",
    "if not numeric_df.empty:\n",
    "    plt.figure(figsize=(10, 8))\n",
    "    sns.heatmap(numeric_df.corr(), annot=True, cmap='coolwarm')\n",
    "    plt.title('Correlation Heatmap')\n",
    "    plt.show()"
   ]
  },
  {
   "cell_type": "markdown",
   "metadata": {},
   "source": [
    "# Step 4: Conclusion\n",
    "Summarize key findings from the EDA."
   ]
  }
 ],
 "metadata": {
  "kernelspec": {
   "display_name": "Python 3",
   "language": "python",
   "name": "python3"
  },
  "language_info": {
   "codemirror_mode": {
    "name": "ipython",
    "version": 3
   },
   "file_extension": ".py",
   "mimetype": "text/x-python",
   "name": "python",
   "nbconvert_exporter": "python",
   "pygments_lexer": "ipython3",
   "version": "3.11.11"
  }
 },
 "nbformat": 4,
 "nbformat_minor": 4
}
