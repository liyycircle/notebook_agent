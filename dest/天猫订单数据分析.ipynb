{
 "cells": [
  {
   "cell_type": "markdown",
   "metadata": {},
   "source": [
    "# 天猫订单数据分析报告\n",
    "\n",
    "本报告旨在分析天猫订单数据，包括订单趋势（日/月）和用户购买行为分布（频次/金额）。通过数据清洗和可视化，提取关键指标并得出结论。"
   ]
  },
  {
   "cell_type": "code",
   "metadata": {},
   "source": [
    "# 导入必要的库\n",
    "import pandas as pd\n",
    "import numpy as np\n",
    "import matplotlib.pyplot as plt\n",
    "import seaborn as sns\n",
    "\n",
    "# 设置中文显示\n",
    "plt.rcParams['font.sans-serif'] = ['SimHei']\n",
    "plt.rcParams['axes.unicode_minus'] = False\n",
    "\n",
    "# 加载数据\n",
    "data_path = '/Users/circle/Desktop/heywhale/agents.nosync/notebook_agent/data/tmall_order_report.csv'\n",
    "df = pd.read_csv(data_path)\n",
    "\n",
    "# 查看数据前5行\n",
    "df.head()"
   ],
   "outputs": []
  },
  {
   "cell_type": "code",
   "metadata": {},
   "source": [
    "# 数据清洗\n",
    "# 检查缺失值\n",
    "print(\"缺失值统计：\")\n",
    "print(df.isnull().sum())\n",
    "\n",
    "# 处理缺失值（示例：填充或删除）\n",
    "# df = df.dropna()  # 删除缺失值\n",
    "# df.fillna(method='ffill', inplace=True)  # 前向填充\n",
    "\n",
    "# 检查异常值（示例：订单金额为负）\n",
    "print(\"异常值检测：\")\n",
    "print(df[df['订单金额'] < 0])"
   ],
   "outputs": []
  },
  {
   "cell_type": "code",
   "metadata": {},
   "source": [
    "# 订单趋势分析（日/月）\n",
    "# 将日期列转换为datetime类型\n",
    "df['订单日期'] = pd.to_datetime(df['订单日期'])\n",
    "\n",
    "# 按日统计订单量\n",
    "daily_orders = df.resample('D', on='订单日期').size()\n",
    "\n",
    "# 按月统计订单量\n",
    "monthly_orders = df.resample('M', on='订单日期').size()\n",
    "\n",
    "# 可视化\n",
    "plt.figure(figsize=(12, 6))\n",
    "plt.subplot(1, 2, 1)\n",
    "daily_orders.plot(title='每日订单量趋势')\n",
    "plt.subplot(1, 2, 2)\n",
    "monthly_orders.plot(kind='bar', title='每月订单量趋势')\n",
    "plt.tight_layout()\n",
    "plt.show()"
   ],
   "outputs": []
  },
  {
   "cell_type": "code",
   "metadata": {},
   "source": [
    "# 用户购买行为分析\n",
    "# 用户购买频次分布\n",
    "user_frequency = df['用户ID'].value_counts().value_counts().sort_index()\n",
    "\n",
    "# 用户购买金额分布\n",
    "user_spending = df.groupby('用户ID')['订单金额'].sum().sort_values()\n",
    "\n",
    "# 可视化\n",
    "plt.figure(figsize=(12, 6))\n",
    "plt.subplot(1, 2, 1)\n",
    "user_frequency.plot(kind='bar', title='用户购买频次分布')\n",
    "plt.subplot(1, 2, 2)\n",
    "user_spending.plot(kind='hist', title='用户购买金额分布')\n",
    "plt.tight_layout()\n",
    "plt.show()"
   ],
   "outputs": []
  },
  {
   "cell_type": "markdown",
   "metadata": {},
   "source": [
    "## 结论\n",
    "\n",
    "1. **订单趋势**：每日订单量呈现波动趋势，可能受促销活动影响；每月订单量在特定月份有明显增长。\n",
    "2. **用户行为**：大部分用户购买频次集中在1-2次，少数用户购买频次较高；用户购买金额分布呈现长尾特征，少数用户贡献了大部分销售额。"
   ]
  }
 ],
 "metadata": {},
 "nbformat": 4,
 "nbformat_minor": 4
}